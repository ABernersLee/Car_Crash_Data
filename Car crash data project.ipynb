{
 "cells": [
  {
   "cell_type": "markdown",
   "id": "c1e31c9a",
   "metadata": {},
   "source": [
    "# Safer bike routes based on past crashes\n",
    "\n",
    "## Preliminary analysis using car crash data in Somerville, MA\n",
    "\n",
    "The eventual goal of this project is to design a way for cyclists to get around Somerville safely. \n",
    "For me, this is useful for my daily bike commutes, but it could also be useful for delivery service companies.\n",
    "\n",
    "In final form this would involve making a model of the streets of Somerville, predicting which streets you are most likely to get hit on, and directing you to safer routes.\n",
    "\n",
    "The data is from MassDOT. I used 2004-2020 Somerville data but other areas could be used as well. \n",
    "[The data can be downloaded here](https://apps.impact.dot.state.ma.us/cdp/home)\n",
    "\n",
    "As a first pass, I explored the data to see how crashes are happening in Somerville and when bikers are getting hit."
   ]
  },
  {
   "cell_type": "code",
   "execution_count": 225,
   "id": "f9f1e88c",
   "metadata": {},
   "outputs": [],
   "source": [
    "# import packages\n",
    "import pandas as pd\n",
    "import numpy as np\n",
    "import matplotlib.pyplot as plt\n",
    "import scipy.stats as stats\n",
    "import statsmodels.api as sm\n",
    "import statsmodels.formula.api as ols"
   ]
  },
  {
   "cell_type": "code",
   "execution_count": 226,
   "id": "10b3303e",
   "metadata": {},
   "outputs": [
    {
     "data": {
      "text/html": [
       "<div>\n",
       "<style scoped>\n",
       "    .dataframe tbody tr th:only-of-type {\n",
       "        vertical-align: middle;\n",
       "    }\n",
       "\n",
       "    .dataframe tbody tr th {\n",
       "        vertical-align: top;\n",
       "    }\n",
       "\n",
       "    .dataframe thead th {\n",
       "        text-align: right;\n",
       "    }\n",
       "</style>\n",
       "<table border=\"1\" class=\"dataframe\">\n",
       "  <thead>\n",
       "    <tr style=\"text-align: right;\">\n",
       "      <th></th>\n",
       "      <th>RMV Crash Number</th>\n",
       "      <th>City Town Name</th>\n",
       "      <th>Crash Date</th>\n",
       "      <th>Crash Time</th>\n",
       "      <th>Crash Severity</th>\n",
       "      <th>Maximum Injury Severity Reported</th>\n",
       "      <th>Number of Vehicles</th>\n",
       "      <th>Total Nonfatal Injuries</th>\n",
       "      <th>Total Fatal Injuries</th>\n",
       "      <th>Manner of Collision</th>\n",
       "      <th>...</th>\n",
       "      <th>Ambient Light</th>\n",
       "      <th>Weather Condition</th>\n",
       "      <th>At Roadway Intersection</th>\n",
       "      <th>Distance From Nearest Roadway Intersection</th>\n",
       "      <th>Distance From Nearest Milemarker</th>\n",
       "      <th>Distance From Nearest Exit</th>\n",
       "      <th>Distance From Nearest Landmark</th>\n",
       "      <th>Non Motorist Type</th>\n",
       "      <th>X Cooordinate</th>\n",
       "      <th>Y Cooordinate</th>\n",
       "    </tr>\n",
       "  </thead>\n",
       "  <tbody>\n",
       "    <tr>\n",
       "      <th>0</th>\n",
       "      <td>1615315</td>\n",
       "      <td>SOMERVILLE</td>\n",
       "      <td>01-Jan-2002</td>\n",
       "      <td>12:00 PM</td>\n",
       "      <td>Not Reported</td>\n",
       "      <td>Not reported</td>\n",
       "      <td>2.0</td>\n",
       "      <td>0.0</td>\n",
       "      <td>0.0</td>\n",
       "      <td>Sideswipe, same direction</td>\n",
       "      <td>...</td>\n",
       "      <td>Dusk</td>\n",
       "      <td>Clear</td>\n",
       "      <td>Rte 28</td>\n",
       "      <td>Rte 28</td>\n",
       "      <td>NaN</td>\n",
       "      <td>NaN</td>\n",
       "      <td>NaN</td>\n",
       "      <td>NaN</td>\n",
       "      <td>NaN</td>\n",
       "      <td>NaN</td>\n",
       "    </tr>\n",
       "    <tr>\n",
       "      <th>1</th>\n",
       "      <td>1601349</td>\n",
       "      <td>SOMERVILLE</td>\n",
       "      <td>01-Jan-2002</td>\n",
       "      <td>12:55 PM</td>\n",
       "      <td>Non-fatal injury</td>\n",
       "      <td>Non-fatal injury - Possible</td>\n",
       "      <td>2.0</td>\n",
       "      <td>1.0</td>\n",
       "      <td>0.0</td>\n",
       "      <td>Not reported</td>\n",
       "      <td>...</td>\n",
       "      <td>Daylight</td>\n",
       "      <td>Clear/Rain</td>\n",
       "      <td>MYSTIC AVENUE Rte 38 / WHEATLAND STREET</td>\n",
       "      <td>MYSTIC AVENUE Rte 38 / WHEATLAND STREET</td>\n",
       "      <td>NaN</td>\n",
       "      <td>NaN</td>\n",
       "      <td>NaN</td>\n",
       "      <td>NaN</td>\n",
       "      <td>233994.515409</td>\n",
       "      <td>904924.500212</td>\n",
       "    </tr>\n",
       "    <tr>\n",
       "      <th>2</th>\n",
       "      <td>1469235</td>\n",
       "      <td>SOMERVILLE</td>\n",
       "      <td>01-Jan-2002</td>\n",
       "      <td>12:55 PM</td>\n",
       "      <td>Non-fatal injury</td>\n",
       "      <td>Non-fatal injury - Non-incapacitating</td>\n",
       "      <td>2.0</td>\n",
       "      <td>2.0</td>\n",
       "      <td>0.0</td>\n",
       "      <td>Angle</td>\n",
       "      <td>...</td>\n",
       "      <td>Daylight</td>\n",
       "      <td>Clear</td>\n",
       "      <td>MYSTIC AVENUE Rte 38 N / WHEATLAND STREET</td>\n",
       "      <td>MYSTIC AVENUE Rte 38 N / WHEATLAND STREET</td>\n",
       "      <td>NaN</td>\n",
       "      <td>NaN</td>\n",
       "      <td>NaN</td>\n",
       "      <td>NaN</td>\n",
       "      <td>233994.515409</td>\n",
       "      <td>904924.500212</td>\n",
       "    </tr>\n",
       "    <tr>\n",
       "      <th>3</th>\n",
       "      <td>1611964</td>\n",
       "      <td>SOMERVILLE</td>\n",
       "      <td>01-Jan-2002</td>\n",
       "      <td>6:15 PM</td>\n",
       "      <td>Not Reported</td>\n",
       "      <td>Not Applicable</td>\n",
       "      <td>2.0</td>\n",
       "      <td>0.0</td>\n",
       "      <td>0.0</td>\n",
       "      <td>Sideswipe, opposite direction</td>\n",
       "      <td>...</td>\n",
       "      <td>Dark - roadway not lighted</td>\n",
       "      <td>Sleet, hail (freezing rain or drizzle)</td>\n",
       "      <td>NaN</td>\n",
       "      <td>Rte 93 N</td>\n",
       "      <td>NaN</td>\n",
       "      <td>NaN</td>\n",
       "      <td>ON RAMP TO MARTHA ROAD</td>\n",
       "      <td>NaN</td>\n",
       "      <td>NaN</td>\n",
       "      <td>NaN</td>\n",
       "    </tr>\n",
       "    <tr>\n",
       "      <th>4</th>\n",
       "      <td>1418228</td>\n",
       "      <td>SOMERVILLE</td>\n",
       "      <td>01-Jan-2002</td>\n",
       "      <td>7:15 PM</td>\n",
       "      <td>Not Reported</td>\n",
       "      <td>Not Applicable</td>\n",
       "      <td>2.0</td>\n",
       "      <td>0.0</td>\n",
       "      <td>0.0</td>\n",
       "      <td>Not reported</td>\n",
       "      <td>...</td>\n",
       "      <td>Not reported</td>\n",
       "      <td>Not Reported</td>\n",
       "      <td>/ / BEACON STREET</td>\n",
       "      <td>/ / BEACON STREET / SACRAMENTO STREET</td>\n",
       "      <td>NaN</td>\n",
       "      <td>NaN</td>\n",
       "      <td>NaN</td>\n",
       "      <td>NaN</td>\n",
       "      <td>231896.906191</td>\n",
       "      <td>903725.500147</td>\n",
       "    </tr>\n",
       "  </tbody>\n",
       "</table>\n",
       "<p>5 rows × 28 columns</p>\n",
       "</div>"
      ],
      "text/plain": [
       "  RMV Crash Number City Town Name   Crash Date Crash Time    Crash Severity  \\\n",
       "0          1615315     SOMERVILLE  01-Jan-2002   12:00 PM      Not Reported   \n",
       "1          1601349     SOMERVILLE  01-Jan-2002   12:55 PM  Non-fatal injury   \n",
       "2          1469235     SOMERVILLE  01-Jan-2002   12:55 PM  Non-fatal injury   \n",
       "3          1611964     SOMERVILLE  01-Jan-2002    6:15 PM      Not Reported   \n",
       "4          1418228     SOMERVILLE  01-Jan-2002    7:15 PM      Not Reported   \n",
       "\n",
       "        Maximum Injury Severity Reported  Number of Vehicles  \\\n",
       "0                           Not reported                 2.0   \n",
       "1            Non-fatal injury - Possible                 2.0   \n",
       "2  Non-fatal injury - Non-incapacitating                 2.0   \n",
       "3                         Not Applicable                 2.0   \n",
       "4                         Not Applicable                 2.0   \n",
       "\n",
       "   Total Nonfatal Injuries  Total Fatal Injuries  \\\n",
       "0                      0.0                   0.0   \n",
       "1                      1.0                   0.0   \n",
       "2                      2.0                   0.0   \n",
       "3                      0.0                   0.0   \n",
       "4                      0.0                   0.0   \n",
       "\n",
       "             Manner of Collision  ...               Ambient Light  \\\n",
       "0      Sideswipe, same direction  ...                        Dusk   \n",
       "1                   Not reported  ...                    Daylight   \n",
       "2                          Angle  ...                    Daylight   \n",
       "3  Sideswipe, opposite direction  ...  Dark - roadway not lighted   \n",
       "4                   Not reported  ...                Not reported   \n",
       "\n",
       "                        Weather Condition  \\\n",
       "0                                   Clear   \n",
       "1                              Clear/Rain   \n",
       "2                                   Clear   \n",
       "3  Sleet, hail (freezing rain or drizzle)   \n",
       "4                            Not Reported   \n",
       "\n",
       "                     At Roadway Intersection  \\\n",
       "0                                     Rte 28   \n",
       "1    MYSTIC AVENUE Rte 38 / WHEATLAND STREET   \n",
       "2  MYSTIC AVENUE Rte 38 N / WHEATLAND STREET   \n",
       "3                                        NaN   \n",
       "4                          / / BEACON STREET   \n",
       "\n",
       "   Distance From Nearest Roadway Intersection  \\\n",
       "0                                      Rte 28   \n",
       "1     MYSTIC AVENUE Rte 38 / WHEATLAND STREET   \n",
       "2   MYSTIC AVENUE Rte 38 N / WHEATLAND STREET   \n",
       "3                                    Rte 93 N   \n",
       "4       / / BEACON STREET / SACRAMENTO STREET   \n",
       "\n",
       "   Distance From Nearest Milemarker Distance From Nearest Exit  \\\n",
       "0                               NaN                        NaN   \n",
       "1                               NaN                        NaN   \n",
       "2                               NaN                        NaN   \n",
       "3                               NaN                        NaN   \n",
       "4                               NaN                        NaN   \n",
       "\n",
       "  Distance From Nearest Landmark Non Motorist Type  X Cooordinate  \\\n",
       "0                            NaN               NaN            NaN   \n",
       "1                            NaN               NaN  233994.515409   \n",
       "2                            NaN               NaN  233994.515409   \n",
       "3         ON RAMP TO MARTHA ROAD               NaN            NaN   \n",
       "4                            NaN               NaN  231896.906191   \n",
       "\n",
       "   Y Cooordinate  \n",
       "0            NaN  \n",
       "1  904924.500212  \n",
       "2  904924.500212  \n",
       "3            NaN  \n",
       "4  903725.500147  \n",
       "\n",
       "[5 rows x 28 columns]"
      ]
     },
     "execution_count": 226,
     "metadata": {},
     "output_type": "execute_result"
    }
   ],
   "source": [
    "# Read in the data and take a look\n",
    "dat = pd.read_csv(r\"Downloads/CrashDetails2.csv\",skiprows=6)\n",
    "dat.head()"
   ]
  },
  {
   "cell_type": "markdown",
   "id": "c0b8cc2e",
   "metadata": {},
   "source": [
    "## First, we'll look at all car crashes over time."
   ]
  },
  {
   "cell_type": "code",
   "execution_count": 227,
   "id": "a5bd5d12",
   "metadata": {},
   "outputs": [
    {
     "data": {
      "image/png": "[encoded data removed]",
      "text/plain": [
       "<Figure size 432x288 with 1 Axes>"
      ]
     },
     "metadata": {
      "needs_background": "light"
     },
     "output_type": "display_data"
    }
   ],
   "source": [
    "dat['datetime'] = pd.to_datetime(dat[\"Crash Date\"] + ' ' + dat[\"Crash Time\"])\n",
    "\n",
    "dat['day_of_week'] = dat[\"datetime\"].dt.day_name()\n",
    "\n",
    "dat.hist('datetime')\n",
    "\n",
    "plt.title('Number of crashes across time')\n",
    "plt.ylabel('Count')\n",
    "plt.xlabel('Year');"
   ]
  },
  {
   "cell_type": "markdown",
   "id": "8a611678",
   "metadata": {},
   "source": [
    "## We can see that they're going down over the years. Great!"
   ]
  },
  {
   "cell_type": "markdown",
   "id": "a8fe2f15",
   "metadata": {},
   "source": [
    "## Next, let's look at how crashes occur throughout the week."
   ]
  },
  {
   "cell_type": "code",
   "execution_count": 228,
   "id": "49fb1733",
   "metadata": {
    "scrolled": true
   },
   "outputs": [
    {
     "data": {
      "image/png": "[encoded data removed]",
      "text/plain": [
       "<Figure size 432x288 with 1 Axes>"
      ]
     },
     "metadata": {
      "needs_background": "light"
     },
     "output_type": "display_data"
    }
   ],
   "source": [
    "dat[\"day_of_week\"].value_counts()\\\n",
    "[['Monday','Tuesday','Wednesday','Thursday','Friday','Saturday','Sunday']].plot(kind='bar')\n",
    "\n",
    "plt.title('Number of crashes by day of the week')\n",
    "plt.ylabel('Count')\n",
    "plt.xlabel('Day of the week');"
   ]
  },
  {
   "cell_type": "markdown",
   "id": "6fde6fba",
   "metadata": {},
   "source": [
    "## It looks like there are slightly more car crashes on Fridays"
   ]
  },
  {
   "cell_type": "markdown",
   "id": "b58d0f7f",
   "metadata": {},
   "source": [
    "## Now let's look across time during a day"
   ]
  },
  {
   "cell_type": "code",
   "execution_count": 229,
   "id": "d28424e0",
   "metadata": {},
   "outputs": [
    {
     "data": {
      "image/png": "[encoded data removed]",
      "text/plain": [
       "<Figure size 432x288 with 1 Axes>"
      ]
     },
     "metadata": {
      "needs_background": "light"
     },
     "output_type": "display_data"
    }
   ],
   "source": [
    "dat['datetime'].dt.hour.hist()\n",
    "\n",
    "plt.title('Number of crashes across hours in a day')\n",
    "plt.ylabel('Count')\n",
    "plt.xlabel('Hours');"
   ]
  },
  {
   "cell_type": "markdown",
   "id": "afdbb937",
   "metadata": {},
   "source": [
    "We can see that there are differences here, but let's break the hours down into more interpretable sections of the day like \"Evening\" or \"Morning\""
   ]
  },
  {
   "cell_type": "code",
   "execution_count": 230,
   "id": "6fec05c4",
   "metadata": {},
   "outputs": [
    {
     "data": {
      "image/png": "[encoded data removed]",
      "text/plain": [
       "<Figure size 432x288 with 1 Axes>"
      ]
     },
     "metadata": {
      "needs_background": "light"
     },
     "output_type": "display_data"
    }
   ],
   "source": [
    "b = [0,4,8,12,16,20,24]\n",
    "l = ['Late Night', 'Early Morning','Morning','Noon','Eve','Night']\n",
    "dat['time_of_day'] = pd.cut(dat['datetime'].dt.hour, bins=b, labels=l, include_lowest=True)\n",
    "\n",
    "dat[\"time_of_day\"].value_counts()[['Early Morning','Morning','Noon','Eve','Night','Late Night']].plot(kind='bar')\n",
    "\n",
    "plt.title('Number of crashes across time')\n",
    "plt.ylabel('Count');"
   ]
  },
  {
   "cell_type": "markdown",
   "id": "0aa5e30b",
   "metadata": {},
   "source": [
    "## It looks like there's more crashes during the day than at night, which makes sense as there are likely more cars on the road.\n",
    "\n",
    "Now let's look at what kind of non-motorists are involved in car crashes.\n"
   ]
  },
  {
   "cell_type": "code",
   "execution_count": 231,
   "id": "fda8f683",
   "metadata": {},
   "outputs": [
    {
     "name": "stdout",
     "output_type": "stream",
     "text": [
      "The unique elements of the input list using set():\n",
      "\n",
      "[nan, ' P4: Skater', ' P2: Pedestrian / P3: Pedestrian / P4: Pedestrian / P5: Pedestrian', ' P3: Pedestrian / P4: Pedestrian / P5: Pedestrian', ' P6: Pedestrian', ' P2: Cyclist / P3: Cyclist / P4: Cyclist', ' P3: Skater', ' P3: Pedestrian / P2: Pedestrian', ' P2: Skater', ' P3: Train/trolley passenger', ' P3: Other / P2: Other', ' P1: Pedestrian / P2: Pedestrian', ' P2: Pedestrian / P4: Pedestrian', ' P5: Other', ' P4: Cyclist / P5: Cyclist', ' P2: Pedestrian / P3: Other / P4: Pedestrian / P5: Pedestrian', ' P1: Other', ' P4: Pedestrian', ' P4: Pedestrian / P5: Pedestrian', ' P1: Cyclist / P2: Other', ' P2: Other', ' P2: Pedestrian / P3: Pedestrian', ' P4: Other', ' P1: Skater', ' P2: Pedestrian / P3: Pedestrian / P4: Pedestrian', ' P5: Pedestrian', ' P4: Cyclist', ' P2: Cyclist / P3: Other', ' P3: Pedestrian / P4: Pedestrian', ' P5: Cyclist', ' P3: Pedestrian', ' P2: Cyclist / P3: Cyclist', ' P3: Other', ' P3: Cyclist', ' P6: Cyclist', ' P2: Pedestrian', ' P1: Pedestrian', ' P1: Cyclist', ' P2: Cyclist / P3: Pedestrian', ' P2: Other / P3: Other', ' P2: Cyclist', ' P2: Pedestrian / P3: Other / P4: Other']\n"
     ]
    }
   ],
   "source": [
    "set_list = set(dat[\"Non Motorist Type\"]) \n",
    "print(\"The unique elements of the input list using set():\\n\") \n",
    "list_NMT = (list(set_list))\n",
    "print(list_NMT)\n"
   ]
  },
  {
   "cell_type": "markdown",
   "id": "33e567e6",
   "metadata": {},
   "source": [
    "There's a lot of different people involved, but let's focus on the cyclists getting hit and compare them to those crashes when non-motorists were not involved (a car hitting an object or another car)"
   ]
  },
  {
   "cell_type": "code",
   "execution_count": 232,
   "id": "ffd78345",
   "metadata": {},
   "outputs": [
    {
     "data": {
      "image/png": "[encoded data removed]",
      "text/plain": [
       "<Figure size 864x360 with 2 Axes>"
      ]
     },
     "metadata": {
      "needs_background": "light"
     },
     "output_type": "display_data"
    }
   ],
   "source": [
    "isbike = dat[\"Non Motorist Type\"].str.contains('Cyclist',na=False,case=False)\n",
    "iscar = dat[\"Non Motorist Type\"].isna()\n",
    "\n",
    "has_cyc_tm = dat[isbike][\"time_of_day\"]\n",
    "only_car_tm = dat[iscar][\"time_of_day\"]\n",
    "\n",
    "plt.figure(figsize=[12,5])\n",
    "\n",
    "ax1 = plt.subplot(121)\n",
    "only_car_tm.value_counts(normalize=True)\\\n",
    "[['Early Morning','Morning','Noon','Eve','Night','Late Night']].plot(kind='bar')\n",
    "ax1.set(ylim=(0, .4))\n",
    "plt.title('Car crash no bikes')\n",
    "plt.ylabel('Normalized count')\n",
    "\n",
    "ax2 = plt.subplot(122)\n",
    "has_cyc_tm.value_counts(normalize=True)\\\n",
    "[['Early Morning','Morning','Noon','Eve','Night','Late Night']].plot(kind='bar')\n",
    "ax2.set(ylim=(0, .4))\n",
    "plt.title('Car hits biker')\n",
    "plt.ylabel('Normalized count');\n",
    "\n"
   ]
  },
  {
   "cell_type": "markdown",
   "id": "604daa2f",
   "metadata": {},
   "source": [
    "## It seems that car crashes without bikes happen at all times of day, but cyclists tend to get hit in the evening"
   ]
  },
  {
   "cell_type": "code",
   "execution_count": 233,
   "id": "eda7acfa",
   "metadata": {},
   "outputs": [
    {
     "name": "stdout",
     "output_type": "stream",
     "text": [
      "p = 3.168959241073242e-27\n"
     ]
    }
   ],
   "source": [
    "A = has_cyc_tm.value_counts()\\\n",
    "                                [['Early Morning','Morning','Noon','Eve','Night','Late Night']]\n",
    "A2 = A.rename_axis('unique_values').to_frame('counts')\n",
    "\n",
    "B = dat[isbike | iscar][\"time_of_day\"].value_counts()\\\n",
    "                                [['Early Morning','Morning','Noon','Eve','Night','Late Night']]\n",
    "B2 = B.rename_axis('unique_values').to_frame('counts')\n",
    "\n",
    "C = [[A], [B]]\n",
    "chi2p = stats.chi2_contingency(C)\n",
    "print('p = ' + str(chi2p[1]))"
   ]
  },
  {
   "cell_type": "markdown",
   "id": "7671f3d2",
   "metadata": {},
   "source": [
    "We can quantify that difference as a difference in the proportions of crashes across the day between just the cyclist-involved crashes and all of the crashes. We find that there is a significant difference in the proportions. \n",
    "\n",
    "For now we'll just do this simple comparison but because time is actually a ciruclar variable, it may also be useful to look at this data in that way and to do circular statistics between these groups on the time within a day.\n",
    "\n",
    "## Now, let's see whether bikes are getting hit on any particular days of the week"
   ]
  },
  {
   "cell_type": "code",
   "execution_count": 234,
   "id": "b7eceba7",
   "metadata": {},
   "outputs": [
    {
     "data": {
      "image/png": "[encoded data removed]",
      "text/plain": [
       "<Figure size 864x360 with 2 Axes>"
      ]
     },
     "metadata": {
      "needs_background": "light"
     },
     "output_type": "display_data"
    }
   ],
   "source": [
    "has_cyc = dat[isbike][\"day_of_week\"]\n",
    "only_car = dat[iscar][\"day_of_week\"]\n",
    "\n",
    "plt.figure(figsize=[12,5])\n",
    "\n",
    "ax1 = plt.subplot(121)\n",
    "only_car.value_counts(normalize=True)\\\n",
    "    [['Monday','Tuesday','Wednesday','Thursday','Friday','Saturday','Sunday']].plot(kind='bar')\n",
    "ax1.set(ylim=(0, .2))\n",
    "plt.title('Car crash no bikes')\n",
    "plt.ylabel('Normalized count')\n",
    "\n",
    "ax2 = plt.subplot(122)\n",
    "has_cyc.value_counts(normalize=True)\\\n",
    "    [['Monday','Tuesday','Wednesday','Thursday','Friday','Saturday','Sunday']].plot(kind='bar')\n",
    "ax2.set(ylim=(0, .2))\n",
    "plt.title('Car hits biker')\n",
    "plt.ylabel('Normalized count');"
   ]
  },
  {
   "cell_type": "markdown",
   "id": "08820366",
   "metadata": {},
   "source": [
    "## When we look at crashes without or with a biker getting hit, we see that bikers tend to get hit more on weekdays than weekends compared with all crashes"
   ]
  },
  {
   "cell_type": "code",
   "execution_count": 235,
   "id": "4ca59200",
   "metadata": {},
   "outputs": [
    {
     "name": "stdout",
     "output_type": "stream",
     "text": [
      "p = 1.0908975081958974e-05\n"
     ]
    }
   ],
   "source": [
    "A = has_cyc.value_counts()\\\n",
    "                                [['Monday','Tuesday','Wednesday','Thursday','Friday','Saturday','Sunday']]\n",
    "A2 = A.rename_axis('unique_values').to_frame('counts')\n",
    "\n",
    "B = dat[isbike | iscar][\"day_of_week\"].value_counts()\\\n",
    "                                [['Monday','Tuesday','Wednesday','Thursday','Friday','Saturday','Sunday']]\n",
    "B2 = B.rename_axis('unique_values').to_frame('counts')\n",
    "\n",
    "C = [[A], [B]]\n",
    "\n",
    "chi2p = stats.chi2_contingency(C)\n",
    "print('p = ' + str(chi2p[1]))"
   ]
  },
  {
   "cell_type": "markdown",
   "id": "d315e35f",
   "metadata": {},
   "source": [
    "Using the same type of analysis as above, we see that the proportions of crashes across the days of the week are different for bikers. Again, this data could be analyzed using circular statistics with continous time through weeks.\n",
    "\n",
    "## This, along with the time-of-day data, seems to imply that bikers are getting hit more when commuting to work or school, and that the evening commutes are especially dangerous."
   ]
  },
  {
   "cell_type": "markdown",
   "id": "13bf0434",
   "metadata": {},
   "source": [
    "## This dataset also has location data (x and y coordinates) and could be used, along with the time, day, and weather conditions, to advise on when and where bikers' routes would be safest."
   ]
  }
 ],
 "metadata": {
  "kernelspec": {
   "display_name": "Python 3 (ipykernel)",
   "language": "python",
   "name": "python3"
  },
  "language_info": {
   "codemirror_mode": {
    "name": "ipython",
    "version": 3
   },
   "file_extension": ".py",
   "mimetype": "text/x-python",
   "name": "python",
   "nbconvert_exporter": "python",
   "pygments_lexer": "ipython3",
   "version": "3.9.7"
  }
 },
 "nbformat": 4,
 "nbformat_minor": 5
}
